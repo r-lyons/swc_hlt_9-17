{
 "cells": [
  {
   "cell_type": "code",
   "execution_count": 1,
   "metadata": {
    "collapsed": false
   },
   "outputs": [
    {
     "name": "stdout",
     "output_type": "stream",
     "text": [
      "rlyons\n"
     ]
    }
   ],
   "source": [
    "%%bash\n",
    "whoami"
   ]
  },
  {
   "cell_type": "code",
   "execution_count": 2,
   "metadata": {
    "collapsed": false
   },
   "outputs": [
    {
     "name": "stdout",
     "output_type": "stream",
     "text": [
      "Interactive namespace is empty.\n"
     ]
    }
   ],
   "source": [
    "%whos"
   ]
  },
  {
   "cell_type": "code",
   "execution_count": 3,
   "metadata": {
    "collapsed": true
   },
   "outputs": [],
   "source": [
    "import numpy as np\n",
    "import os\n",
    "import matplotlib as plt\n"
   ]
  },
  {
   "cell_type": "code",
   "execution_count": 4,
   "metadata": {
    "collapsed": false
   },
   "outputs": [
    {
     "name": "stdout",
     "output_type": "stream",
     "text": [
      "Variable   Type      Data/Info\n",
      "------------------------------\n",
      "np         module    <module 'numpy' from '/ho<...>kages/numpy/__init__.py'>\n",
      "os         module    <module 'os' from '/home/<...>da3/lib/python3.6/os.py'>\n",
      "plt        module    <module 'matplotlib' from<...>/matplotlib/__init__.py'>\n"
     ]
    }
   ],
   "source": [
    "%whos"
   ]
  },
  {
   "cell_type": "code",
   "execution_count": 5,
   "metadata": {
    "collapsed": false
   },
   "outputs": [
    {
     "name": "stdout",
     "output_type": "stream",
     "text": [
      "hi\n"
     ]
    }
   ],
   "source": [
    "%%bash\n",
    "echo 'hi'"
   ]
  },
  {
   "cell_type": "code",
   "execution_count": 6,
   "metadata": {
    "collapsed": false
   },
   "outputs": [
    {
     "name": "stdout",
     "output_type": "stream",
     "text": [
      "/home/rlyons/swc_hlt_9-17/swc_hlt_9-17/HLTSWFiles/tomsawyer.txt\n"
     ]
    }
   ],
   "source": [
    "file_path = os.path.expanduser('~/swc_hlt_9-17/swc_hlt_9-17/HLTSWFiles/tomsawyer.txt')\n",
    "print(file_path)"
   ]
  },
  {
   "cell_type": "code",
   "execution_count": 7,
   "metadata": {
    "collapsed": false
   },
   "outputs": [
    {
     "name": "stdout",
     "output_type": "stream",
     "text": [
      "The Project Gutenberg EBook of The Adventures of Tom Sawyer, Complete\n",
      "\n"
     ]
    }
   ],
   "source": [
    "with open(file_path, 'r') as f:\n",
    "    line1 = f.readline()\n",
    "    print(line1)"
   ]
  },
  {
   "cell_type": "code",
   "execution_count": 8,
   "metadata": {
    "collapsed": true
   },
   "outputs": [],
   "source": [
    "fname = os.path.expanduser('~/swc_hlt_9-17/swc_hlt_9-17/HLTSWFiles/data/inflammation-01.csv')"
   ]
  },
  {
   "cell_type": "code",
   "execution_count": 9,
   "metadata": {
    "collapsed": false
   },
   "outputs": [
    {
     "name": "stdout",
     "output_type": "stream",
     "text": [
      "[[ 0.  0.  1. ...,  3.  0.  0.]\n",
      " [ 0.  1.  2. ...,  1.  0.  1.]\n",
      " [ 0.  1.  1. ...,  2.  1.  1.]\n",
      " ..., \n",
      " [ 0.  1.  1. ...,  1.  1.  1.]\n",
      " [ 0.  0.  0. ...,  0.  2.  0.]\n",
      " [ 0.  0.  1. ...,  1.  1.  0.]] \n",
      " 2400 \n",
      " (60, 40) \n",
      " float64 \n",
      " 0.0 \n",
      " [[ 0.  0.  1.  3.  1.  2.  4.  7.  8.  3.]\n",
      " [ 0.  1.  2.  1.  2.  1.  3.  2.  2.  6.]\n",
      " [ 0.  1.  1.  3.  3.  2.  6.  2.  5.  9.]\n",
      " [ 0.  0.  2.  0.  4.  2.  2.  1.  6.  7.]\n",
      " [ 0.  1.  1.  3.  3.  1.  3.  5.  2.  4.]]\n"
     ]
    }
   ],
   "source": [
    "my_array = np.loadtxt(fname, delimiter=',')\n",
    "print(my_array, '\\n', my_array.size, '\\n', my_array.shape, '\\n', my_array.dtype, '\\n', my_array[0, 0], '\\n', my_array[0:5, :10])"
   ]
  },
  {
   "cell_type": "code",
   "execution_count": 10,
   "metadata": {
    "collapsed": true
   },
   "outputs": [],
   "source": [
    "small_array = my_array[:5, :10]"
   ]
  },
  {
   "cell_type": "code",
   "execution_count": 11,
   "metadata": {
    "collapsed": false
   },
   "outputs": [
    {
     "data": {
      "text/plain": [
       "array([[  0.,   0.,   2.,   6.,   2.,   4.,   8.,  14.,  16.,   6.],\n",
       "       [  0.,   2.,   4.,   2.,   4.,   2.,   6.,   4.,   4.,  12.],\n",
       "       [  0.,   2.,   2.,   6.,   6.,   4.,  12.,   4.,  10.,  18.],\n",
       "       [  0.,   0.,   4.,   0.,   8.,   4.,   4.,   2.,  12.,  14.],\n",
       "       [  0.,   2.,   2.,   6.,   6.,   2.,   6.,  10.,   4.,   8.]])"
      ]
     },
     "execution_count": 11,
     "metadata": {},
     "output_type": "execute_result"
    }
   ],
   "source": [
    "small_array * 2\n"
   ]
  },
  {
   "cell_type": "code",
   "execution_count": 12,
   "metadata": {
    "collapsed": true
   },
   "outputs": [],
   "source": [
    "word_file = os.path.expanduser('~/swc_hlt_9-17/swc_hlt_9-17/HLTSWFiles/words')"
   ]
  },
  {
   "cell_type": "code",
   "execution_count": 13,
   "metadata": {
    "collapsed": true
   },
   "outputs": [],
   "source": [
    "with open(word_file, 'r') as f:\n",
    "    words = f.readlines()"
   ]
  },
  {
   "cell_type": "code",
   "execution_count": 14,
   "metadata": {
    "collapsed": false
   },
   "outputs": [
    {
     "name": "stdout",
     "output_type": "stream",
     "text": [
      "The number of words is: 235886\n"
     ]
    }
   ],
   "source": [
    "print('The number of words is:', len(words))"
   ]
  },
  {
   "cell_type": "code",
   "execution_count": 15,
   "metadata": {
    "collapsed": false
   },
   "outputs": [],
   "source": [
    "np.loadtxt??"
   ]
  },
  {
   "cell_type": "code",
   "execution_count": 16,
   "metadata": {
    "collapsed": false
   },
   "outputs": [],
   "source": [
    "word_array = np.loadtxt(word_file, dtype='S25')"
   ]
  },
  {
   "cell_type": "code",
   "execution_count": 17,
   "metadata": {
    "collapsed": false
   },
   "outputs": [
    {
     "name": "stdout",
     "output_type": "stream",
     "text": [
      "[b'A' b'a' b'aa' b'aal' b'aalii' b'aam' b'Aani' b'aardvark' b'aardwolf'\n",
      " b'Aaron' b'Aaronic' b'Aaronical' b'Aaronite' b'Aaronitic' b'Aaru' b'Ab'\n",
      " b'aba' b'Ababdeh' b'Ababua' b'abac']\n"
     ]
    }
   ],
   "source": [
    "print(word_array[:20])"
   ]
  },
  {
   "cell_type": "code",
   "execution_count": 18,
   "metadata": {
    "collapsed": true
   },
   "outputs": [],
   "source": [
    "preface_file = os.path.expanduser('~/swc_hlt_9-17/swc_hlt_9-17/HLTSWFiles/tompreface.txt')"
   ]
  },
  {
   "cell_type": "code",
   "execution_count": 29,
   "metadata": {
    "collapsed": false
   },
   "outputs": [
    {
     "name": "stdout",
     "output_type": "stream",
     "text": [
      "['MOST', 'the', 'recorded', 'this', 'really', 'one', 'two', 'experiences', 'my', 'the', 'those', 'boys', 'were', 'schoolmates', 'mine.', 'Finn', 'drawn', 'life;', 'Sawyer', 'but', 'not', 'an', 'is', 'combination', 'the', 'of', 'three', 'whom', 'knew,', 'therefore', 'to', 'composite', 'of', 'architecture.', '', 'The', 'superstitions', 'upon', 'all', 'among', 'and', 'in', 'West', 'of', 'story--that', 'to', 'thirty', 'forty', 'ago.', '', 'Although', 'book', 'intended', 'for', 'entertainment', 'boys', 'girls,', 'hope', 'will', 'be', 'by', 'and', 'on', 'account,', 'for', 'of', 'plan', 'been', 'try', 'pleasantly', 'adults', 'of', 'what', 'they', 'were', 'and', 'how', 'they', 'felt', 'and', 'thought', 'and', 'talked,', 'and', 'queer', 'they', 'engaged']\n",
      "['M', 'S', 't', 'e', 'r', 'c', 'r', 'e', 't', 'i', 'r', 'a', 'l', 'o', 'e', 't', 'o', 'e', 'p', 'r', 'e', 'c', 's', 'm', 't', 'e', 't', 'o', 'e', 'b', 'y', 'w', 'r', 's', 'h', 'o', 'm', 't', 's', 'm', 'n', '.', 'F', 'n', 'd', 'a', 'n', 'l', 'f', ';', 'S', 'w', 'e', 'b', 't', 'n', 't', 'a', 'i', 'c', 'm', 'i', 'a', 'i', 'n', 't', 'e', 'o', 't', 'r', 'e', 'w', 'o', 'k', 'e', ',', 't', 'e', 'e', 'o', 'e', 't', 'c', 'm', 'o', 'i', 'e', 'o', 'a', 'c', 'i', 'e', 't', 'r', '.', 'T', 'e', 's', 'p', 'r', 't', 't', 'o', 's', 'u', 'o', 'a', 'l', 'a', 'o', 'g', 'a', 'd', 'i', 'W', 's', 'o', 's', 'o', 'y', '-', 'h', 't', 't', 't', 'i', 't', 'f', 'r', 'y', 'a', 'o', 'A', 't', 'o', 'g', 'b', 'o', 'i', 't', 'n', 'e', 'f', 'r', 'e', 't', 'r', 'a', 'n', 'e', 't', 'b', 'y', 'g', 'r', 's', 'h', 'p', 'w', 'l', 'b', 'b', 'a', 'd', 'o', 'a', 'c', 'u', 't', 'f', 'r', 'o', 'p', 'a', 'b', 'e', 't', 'y', 'p', 'e', 's', 'n', 'l', 'a', 'u', 't', 'o', 'w', 'a', 't', 'e', 'w', 'r', 'a', 'd', 'h', 'w', 't', 'e', 'f', 'l', 'a', 'd', 't', 'o', 'g', 't', 'a', 'd', 't', 'l', 'e', ',', 'a', 'd', 'q', 'e', 'r', 't', 'e', 'e', 'g', 'g', 'd']\n"
     ]
    }
   ],
   "source": [
    "#word_list = []\n",
    "other_words = []\n",
    "other_chars = []\n",
    "\n",
    "with open(preface_file, 'r') as f:\n",
    "    \"\"\"\n",
    "    lines = f.readlines()\n",
    "    for line in lines:\n",
    "        for word in line.strip().split(' '):\n",
    "            print(word[-3:])\n",
    "            \"\"\"\n",
    "    for line in f.readlines():\n",
    "        l = line.split(' ')\n",
    "        for w in l:\n",
    "            if (l.index(w) % 2) == 0: #change to ignore even-indices on ending lines\n",
    "                other_words.append(w.strip())\n",
    "            else:\n",
    "                continue\n",
    "                \n",
    "    for w in other_words:\n",
    "        for i in range(len(w)):\n",
    "            if (i%2) == 0:\n",
    "                other_chars.append(w[i])\n",
    "\n",
    "print(other_words)\n",
    "print(other_chars)\n",
    "\n",
    "        \n"
   ]
  },
  {
   "cell_type": "code",
   "execution_count": 49,
   "metadata": {
    "collapsed": false
   },
   "outputs": [],
   "source": [
    "def get_ngrams(word_list, n=2):\n",
    "    ngrams = []\n",
    "    word_list.insert(0, '<start>')\n",
    "    word_list.append('<end>')\n",
    "    for i in range(0, len(word_list)-(n-1)):\n",
    "        gram = ' '.join(word_list[i:i+n])\n",
    "        ngrams.append(gram)\n",
    "        i += n\n",
    "    return ngrams\n",
    "            \n",
    "            "
   ]
  },
  {
   "cell_type": "code",
   "execution_count": 50,
   "metadata": {
    "collapsed": false
   },
   "outputs": [
    {
     "data": {
      "text/plain": [
       "['<start> Testing',\n",
       " 'Testing ngram',\n",
       " 'ngram getter',\n",
       " 'getter function',\n",
       " 'function with',\n",
       " 'with a',\n",
       " 'a list',\n",
       " 'list of',\n",
       " 'of words.',\n",
       " 'words. <end>']"
      ]
     },
     "execution_count": 50,
     "metadata": {},
     "output_type": "execute_result"
    }
   ],
   "source": [
    "get_ngrams(['Testing', 'ngram', 'getter', 'function', 'with', 'a', 'list', 'of', 'words.'])"
   ]
  }
 ],
 "metadata": {
  "kernelspec": {
   "display_name": "Python 3",
   "language": "python",
   "name": "python3"
  },
  "language_info": {
   "codemirror_mode": {
    "name": "ipython",
    "version": 3
   },
   "file_extension": ".py",
   "mimetype": "text/x-python",
   "name": "python",
   "nbconvert_exporter": "python",
   "pygments_lexer": "ipython3",
   "version": "3.6.0"
  }
 },
 "nbformat": 4,
 "nbformat_minor": 2
}
